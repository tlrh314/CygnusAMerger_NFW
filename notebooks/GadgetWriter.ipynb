{
 "cells": [
  {
   "cell_type": "code",
   "execution_count": 1,
   "metadata": {},
   "outputs": [],
   "source": [
    "%matplotlib inline\n",
    "\n",
    "import sys\n",
    "sys.path.append(\"../src\")\n",
    "\n",
    "import numpy\n",
    "import scipy\n",
    "import matplotlib\n",
    "from matplotlib import pyplot\n",
    "from astropy.io import ascii, fits\n",
    "\n",
    "import parse\n",
    "from cluster import Cluster\n",
    "from rotate import apply_projection\n",
    "from parse import toycluster_icfile\n",
    "\n",
    "def p2(a):\n",
    "    return ((a) * (a))\n",
    "\n",
    "pyplot.switch_backend(\"module://ipykernel.pylab.backend_inline\")"
   ]
  },
  {
   "cell_type": "code",
   "execution_count": null,
   "metadata": {},
   "outputs": [],
   "source": [
    "bestfit = \"/Users/Timohalbesma/Desktop/snapshot_147_010\"\n",
    "header, gas, dm = toycluster_icfile(bestfit)\n",
    "\n",
    "boxsize = header[\"boxSize\"]\n",
    "boxhalf = boxsize/2\n",
    "\n",
    "# Use Cluster instance to hold data. Toycluster parms needed for find_dm_centroid\n",
    "c = Cluster(header)\n",
    "c.set_header_properties()\n",
    "# c.parms = parse.read_toycluster_parameterfile(glob.glob(simdir+\"../ICs/*.par\")[0])\n",
    "c.parms = parse.read_toycluster_parameterfile(\n",
    "    \"/Users/Timohalbesma/Desktop/ic_both_free_cut_25.par\")\n",
    "\n",
    "# !! Domain [-boxhalf, boxhalf] for rotation matrices !!\n",
    "gas[\"x\"] -= boxhalf\n",
    "gas[\"y\"] -= boxhalf\n",
    "gas[\"z\"] -= boxhalf\n",
    "dm[\"x\"]  -= boxhalf\n",
    "dm[\"y\"]  -= boxhalf\n",
    "dm[\"z\"]  -= boxhalf\n",
    "\n",
    "# This seems best-fit rotation angles\n",
    "EulAng = numpy.array([90, 51, 45]) \n",
    "gas, dm = apply_projection(EulAng, gas, dm)\n",
    "\n",
    "# Now find centroids in rotated image to place cygA and fidicual\n",
    "# cygA at same location in plot. !! Domain find_dm_centroid [0, boxSize] !!\n",
    "gas[\"x\"] += boxhalf\n",
    "gas[\"y\"] += boxhalf\n",
    "gas[\"z\"] += boxhalf\n",
    "dm[\"x\"]  += boxhalf\n",
    "dm[\"y\"]  += boxhalf\n",
    "dm[\"z\"]  += boxhalf"
   ]
  },
  {
   "cell_type": "code",
   "execution_count": null,
   "metadata": {},
   "outputs": [],
   "source": [
    "pyplot.figure(figsize=(12, 12))\n",
    "h, xe, ye, b = pyplot.hist2d(gas[\"x\"], gas[\"y\"], bins=401, norm=matplotlib.colors.LogNorm())\n",
    "pyplot.axhline(0, c=\"r\")\n",
    "pyplot.axhline(boxsize, c=\"r\")\n",
    "pyplot.axvline(0, c=\"r\")\n",
    "pyplot.axvline(boxsize, c=\"r\")\n",
    "#pyplot.xlim(0, boxsize)\n",
    "#pyplot.ylim(0, boxsize)\n",
    "pyplot.show()"
   ]
  },
  {
   "cell_type": "code",
   "execution_count": null,
   "metadata": {},
   "outputs": [],
   "source": [
    "import os\n",
    "import sys\n",
    "import struct\n",
    "import numpy"
   ]
  },
  {
   "cell_type": "code",
   "execution_count": null,
   "metadata": {},
   "outputs": [],
   "source": [
    "def _write_format2_leading_block(gfile, name, size, endianness):\n",
    "    '''Little helper function with speaking name, that writes the small leading\n",
    "    blocks for format 2 Gadget files.'''\n",
    "    gfile.write(struct.pack(endianness + ' i 4s i i', 8, name, size+8, 8))"
   ]
  },
  {
   "cell_type": "code",
   "execution_count": null,
   "metadata": {},
   "outputs": [],
   "source": [
    "def write_header(gfile, header, endianness):\n",
    "    '''\n",
    "    Write header to the (Gadget-)file gfile with given format and endianness.\n",
    "\n",
    "    Args:\n",
    "        gfile (file):       The already in binary write mode opened Gadget file.\n",
    "        header (dict):      The Gadget header to write.\n",
    "        endianness (str):   The endianness of the file (either native '=' or\n",
    "                            non-native '<' (little) or '>' (big)).\n",
    "    '''\n",
    "\n",
    "    size = 256\n",
    "    \n",
    "    _write_format2_leading_block(gfile, 'HEAD', size, endianness)\n",
    "    gfile.write(struct.pack(endianness + 'i', size))\n",
    "    start_pos = gfile.tell()\n",
    "    print(start_pos)\n",
    "\n",
    "    gfile.write(struct.pack(endianness + '6i', *header['npart']))\n",
    "    gfile.write(struct.pack(endianness + '6d', *header['massarr']))\n",
    "    gfile.write(struct.pack(endianness + 'd d i i', header['time'],\n",
    "            header['redshift'], header['flag_sfr'], header['flag_feedback']))\n",
    "    gfile.write(struct.pack(endianness + '6i', *header['npartTotal']))\n",
    "    gfile.write(struct.pack(endianness + 'i i 4d 2i',\n",
    "            header['flag_cooling'], header['numFiles'], header['boxSize'],\n",
    "            header['omega0'], header['omegalambda'], header['hubbleParam'],\n",
    "            header['flag_age'], header['flag_metals']))\n",
    "    gfile.write(struct.pack(endianness + '6i', *header['numpart_total_hw']))\n",
    "    gfile.write(header['la'])\n",
    "\n",
    "    print(gfile.tell())\n",
    "    assert gfile.tell() - start_pos == size\n",
    "    gfile.write(struct.pack(endianness + 'i', size))"
   ]
  },
  {
   "cell_type": "code",
   "execution_count": null,
   "metadata": {},
   "outputs": [],
   "source": [
    "with open(os.path.expanduser(\"GadgetWriterTest\"), 'wb') as gfile:\n",
    "    print(gfile)\n",
    "    write_header(gfile, header, \"=\")"
   ]
  },
  {
   "cell_type": "code",
   "execution_count": null,
   "metadata": {},
   "outputs": [],
   "source": [
    "header_selfwritten, gas_selfwritten, dm_selfwritten = toycluster_icfile(\"GadgetWriterTest\", verbose=True)"
   ]
  },
  {
   "cell_type": "code",
   "execution_count": null,
   "metadata": {},
   "outputs": [],
   "source": [
    "header"
   ]
  },
  {
   "cell_type": "code",
   "execution_count": null,
   "metadata": {},
   "outputs": [],
   "source": [
    "header_selfwritten"
   ]
  },
  {
   "cell_type": "code",
   "execution_count": null,
   "metadata": {},
   "outputs": [],
   "source": [
    "def write_block(gfile, block_name, data, endianness='='):\n",
    "    '''\n",
    "    Write a block to the (Gadget-)file gfile with given format and endianness.\n",
    "\n",
    "    Args:\n",
    "        gfile (file):       The already in binary write mode opened Gadget file.\n",
    "        block_name (str):   The block name for the block to write.\n",
    "        data (...):         The data to write. A UnitArr (or simplye a\n",
    "                            numpy.array) for regular blocks, a header dict for\n",
    "                            the HEAD block and an iterable with BlockInfo classes\n",
    "                            as elements for the INFO block.\n",
    "        endianness (str):   The endianness of the file (either native '=' or\n",
    "                            non-native '<' (little) or '>' (big)).\n",
    "    '''\n",
    "\n",
    "    # reduce data to the numpy array\n",
    "    if not isinstance(data, numpy.ndarray):\n",
    "        data = numpy.array(data)\n",
    "\n",
    "    size = data.nbytes\n",
    "    _write_format2_leading_block(gfile, block_name, size, endianness)\n",
    "    gfile.write(struct.pack(endianness + 'i', size))\n",
    "    start_pos = gfile.tell()\n",
    "\n",
    "    data.tofile(gfile)\n",
    "\n",
    "    assert gfile.tell() - start_pos == size\n",
    "    gfile.write(struct.pack(endianness + 'i', size))"
   ]
  },
  {
   "cell_type": "code",
   "execution_count": null,
   "metadata": {},
   "outputs": [],
   "source": []
  }
 ],
 "metadata": {
  "anaconda-cloud": {},
  "kernelspec": {
   "display_name": "Python [default]",
   "language": "python",
   "name": "python2"
  },
  "language_info": {
   "codemirror_mode": {
    "name": "ipython",
    "version": 2
   },
   "file_extension": ".py",
   "mimetype": "text/x-python",
   "name": "python",
   "nbconvert_exporter": "python",
   "pygments_lexer": "ipython2",
   "version": "2.7.13"
  }
 },
 "nbformat": 4,
 "nbformat_minor": 2
}
